{
  "nbformat": 4,
  "nbformat_minor": 0,
  "metadata": {
    "colab": {
      "provenance": [],
      "authorship_tag": "ABX9TyPXSzC50C92KAgRU5N8RIu5",
      "include_colab_link": true
    },
    "kernelspec": {
      "name": "python3",
      "display_name": "Python 3"
    },
    "language_info": {
      "name": "python"
    }
  },
  "cells": [
    {
      "cell_type": "markdown",
      "metadata": {
        "id": "view-in-github",
        "colab_type": "text"
      },
      "source": [
        "<a href=\"https://colab.research.google.com/github/Ernozkn/NUMPY-UYGULAMA-EREN-ZKAN/blob/main/NUMPY_UYGULAMA.ipynb\" target=\"_parent\"><img src=\"https://colab.research.google.com/assets/colab-badge.svg\" alt=\"Open In Colab\"/></a>"
      ]
    },
    {
      "cell_type": "code",
      "execution_count": null,
      "metadata": {
        "id": "1ymnxquus1u3",
        "colab": {
          "base_uri": "https://localhost:8080/"
        },
        "outputId": "34f7e0a1-665a-4377-dfc9-06311d33fc9f"
      },
      "outputs": [
        {
          "output_type": "stream",
          "name": "stdout",
          "text": [
            "Requirement already satisfied: numpy in /usr/local/lib/python3.11/dist-packages (2.0.2)\n"
          ]
        }
      ],
      "source": [
        "!pip install numpy\n"
      ]
    },
    {
      "cell_type": "code",
      "source": [
        "import numpy as np\n",
        "print(np.__version__)\n"
      ],
      "metadata": {
        "colab": {
          "base_uri": "https://localhost:8080/"
        },
        "id": "XZ8lsqzPCr3S",
        "outputId": "eff94064-3e7a-4e8b-fc0c-c55ccda56e82"
      },
      "execution_count": null,
      "outputs": [
        {
          "output_type": "stream",
          "name": "stdout",
          "text": [
            "2.0.2\n"
          ]
        }
      ]
    },
    {
      "cell_type": "markdown",
      "source": [
        "1.SORU"
      ],
      "metadata": {
        "id": "LyhZzhnEEZX8"
      }
    },
    {
      "cell_type": "code",
      "source": [
        "# 1 den 10 a kadar olan sayılar\n",
        "dizi = np.array([1,2,3,4,5,6,7,8,9])\n",
        "print(dizi)"
      ],
      "metadata": {
        "colab": {
          "base_uri": "https://localhost:8080/"
        },
        "id": "haNi5Qo1C3WA",
        "outputId": "032589a1-eec0-401d-99a4-6e19300e19cb"
      },
      "execution_count": null,
      "outputs": [
        {
          "output_type": "stream",
          "name": "stdout",
          "text": [
            "[1 2 3 4 5 6 7 8 9]\n"
          ]
        }
      ]
    },
    {
      "cell_type": "markdown",
      "source": [
        "2.SORU"
      ],
      "metadata": {
        "id": "93UDPH9UEbEc"
      }
    },
    {
      "cell_type": "code",
      "source": [
        "# 5 elemanlı sıfırlardan oluşan bir dizi\n",
        "dizi = np.zeros(5)\n",
        "print(dizi)"
      ],
      "metadata": {
        "colab": {
          "base_uri": "https://localhost:8080/"
        },
        "id": "kjfLk1muDAla",
        "outputId": "d7736171-4d97-4676-be17-b2906e2c9c8a"
      },
      "execution_count": null,
      "outputs": [
        {
          "output_type": "stream",
          "name": "stdout",
          "text": [
            "[0. 0. 0. 0. 0.]\n"
          ]
        }
      ]
    },
    {
      "cell_type": "code",
      "source": [
        "# 3x3'lük birler matrisi\n",
        "dizi = np.ones((3, 3))\n",
        "print(dizi)"
      ],
      "metadata": {
        "id": "U5KJbS2-DhgW"
      },
      "execution_count": null,
      "outputs": []
    },
    {
      "cell_type": "code",
      "source": [
        "# 10 ile 20 arasında artan bir dizi\n",
        "dizi = np.arange(10, 21)\n",
        "print(dizi)"
      ],
      "metadata": {
        "id": "yN66b6xwDozI"
      },
      "execution_count": null,
      "outputs": []
    },
    {
      "cell_type": "markdown",
      "source": [
        "3.SORU"
      ],
      "metadata": {
        "id": "tlMN6hjzEc-1"
      }
    },
    {
      "cell_type": "code",
      "source": [
        "arr = np.array([[5, 10, 15],\n",
        "                [20, 25, 30],\n",
        "                [35, 40, 45]])\n",
        "eleman = arr[1][2]\n",
        "print(eleman)"
      ],
      "metadata": {
        "colab": {
          "base_uri": "https://localhost:8080/"
        },
        "id": "Vm8cFPbgDSwb",
        "outputId": "0d0e56bd-9856-4ac8-9f2b-9f098816775d"
      },
      "execution_count": null,
      "outputs": [
        {
          "output_type": "stream",
          "name": "stdout",
          "text": [
            "30\n"
          ]
        }
      ]
    },
    {
      "cell_type": "markdown",
      "source": [
        "4.SORU"
      ],
      "metadata": {
        "id": "gxcBrcmfEetE"
      }
    },
    {
      "cell_type": "code",
      "source": [
        "alt_dizi = arr[:, 0:2]\n",
        "print(alt_dizi)"
      ],
      "metadata": {
        "id": "8NpgKrmMEV8N"
      },
      "execution_count": null,
      "outputs": []
    },
    {
      "cell_type": "markdown",
      "source": [
        "5.SORU"
      ],
      "metadata": {
        "id": "IpcywGMvEw4o"
      }
    },
    {
      "cell_type": "code",
      "source": [
        "print(arr.dtype)\n",
        "# Diziyi float türüne dönüştür\n",
        "arr_float = arr.astype(float)\n",
        "print(arr_float.dtype)\n"
      ],
      "metadata": {
        "colab": {
          "base_uri": "https://localhost:8080/"
        },
        "id": "3ZzD7AbdEqa4",
        "outputId": "6ec8568b-3cbc-4353-9256-736a15658dc3"
      },
      "execution_count": null,
      "outputs": [
        {
          "output_type": "stream",
          "name": "stdout",
          "text": [
            "int64\n",
            "float64\n"
          ]
        }
      ]
    },
    {
      "cell_type": "markdown",
      "source": [
        "6.SORU"
      ],
      "metadata": {
        "id": "SsMwIk8JFjiM"
      }
    },
    {
      "cell_type": "code",
      "source": [
        "\n",
        "# Orijinal dizi\n",
        "arr = np.array([10, 20, 30, 40])\n",
        "\n",
        "# Kopya oluştur\n",
        "arr_copy = arr.copy()\n",
        "\n",
        "# View (görünüm) oluştur\n",
        "arr_view = arr.view()\n",
        "\n",
        "# Kopyada değişiklik yap\n",
        "arr_copy[0] = 999\n",
        "\n",
        "# View'da değişiklik yap\n",
        "arr_view[1] = 888\n",
        "\n",
        "# Hepsini yazdır\n",
        "print(\"Orijinal dizi:\", arr)\n",
        "print(\"Kopya dizi:\", arr_copy)\n",
        "print(\"View dizi:\", arr_view)\n"
      ],
      "metadata": {
        "colab": {
          "base_uri": "https://localhost:8080/"
        },
        "id": "A7zqdeHgFk_s",
        "outputId": "05f26e40-4ebc-47de-a9dd-233ef9a92206"
      },
      "execution_count": null,
      "outputs": [
        {
          "output_type": "stream",
          "name": "stdout",
          "text": [
            "Orijinal dizi: [ 10 888  30  40]\n",
            "Kopya dizi: [999  20  30  40]\n",
            "View dizi: [ 10 888  30  40]\n"
          ]
        }
      ]
    },
    {
      "cell_type": "markdown",
      "source": [
        "7.SORU"
      ],
      "metadata": {
        "id": "9Q0Lm6MnF9Dk"
      }
    },
    {
      "cell_type": "code",
      "source": [
        "# 3x4 boyutunda bir NumPy dizisi oluştur\n",
        "arr = np.array([[1, 2, 3, 4],\n",
        "                [5, 6, 7, 8],\n",
        "                [9, 10, 11, 12]])\n",
        "\n",
        "# Dizi boyutlarını yazdır\n",
        "print(\"Dizinin boyutları:\", arr.shape)\n"
      ],
      "metadata": {
        "colab": {
          "base_uri": "https://localhost:8080/"
        },
        "id": "iv6-KqU3F-Ka",
        "outputId": "e9679b27-2b67-4d65-8436-f56562f5005e"
      },
      "execution_count": null,
      "outputs": [
        {
          "output_type": "stream",
          "name": "stdout",
          "text": [
            "Dizinin boyutları: (3, 4)\n"
          ]
        }
      ]
    },
    {
      "cell_type": "markdown",
      "source": [
        "8.SORU"
      ],
      "metadata": {
        "id": "xbpLZ5fAGS96"
      }
    },
    {
      "cell_type": "code",
      "source": [
        "# 1'den 12'ye kadar olan sayılardan oluşan dizi oluştur (1 dahil, 13 hariç)\n",
        "arr = np.arange(1, 13)\n",
        "\n",
        "# 3x4 boyutunda matrise dönüştür\n",
        "matrix = arr.reshape(3, 4)\n",
        "\n",
        "# Matrisi yazdır\n",
        "print(\"3x4 Matris:\\n\", matrix)\n"
      ],
      "metadata": {
        "colab": {
          "base_uri": "https://localhost:8080/"
        },
        "id": "AZxtUhymGSt6",
        "outputId": "1f96649a-a7df-4b77-cffb-2610c1f6dd36"
      },
      "execution_count": null,
      "outputs": [
        {
          "output_type": "stream",
          "name": "stdout",
          "text": [
            "3x4 Matris:\n",
            " [[ 1  2  3  4]\n",
            " [ 5  6  7  8]\n",
            " [ 9 10 11 12]]\n"
          ]
        }
      ]
    },
    {
      "cell_type": "markdown",
      "source": [
        "9.SORU"
      ],
      "metadata": {
        "id": "n8yoQO3gHN0f"
      }
    },
    {
      "cell_type": "code",
      "source": [
        "# 2 boyutlu NumPy dizisi\n",
        "arr = np.array([[1, 2, 3],\n",
        "                [4, 5, 6],\n",
        "                [7, 8, 9]])\n",
        "\n",
        "# Satır satır döngü\n",
        "for row in arr:\n",
        "    for elem in row:\n",
        "        print(elem, end=' ')\n",
        "    print()  # Satır sonu için boş print\n"
      ],
      "metadata": {
        "colab": {
          "base_uri": "https://localhost:8080/"
        },
        "id": "2iEf5pZVHO86",
        "outputId": "75c33558-ff0d-418c-a452-f2013c72a42a"
      },
      "execution_count": null,
      "outputs": [
        {
          "output_type": "stream",
          "name": "stdout",
          "text": [
            "1 2 3 \n",
            "4 5 6 \n",
            "7 8 9 \n"
          ]
        }
      ]
    },
    {
      "cell_type": "markdown",
      "source": [
        "10.SORU"
      ],
      "metadata": {
        "id": "G_uX3QrNHRZ4"
      }
    },
    {
      "cell_type": "code",
      "source": [
        "a = np.array([[1, 2],[3, 4]])\n",
        "\n",
        "b = np.array([[5, 6],[7, 8]])\n",
        "birleştirme = np.concatenate((a, b), axis=0)\n",
        "print(\"Dikey birleştirme:\\n\", birleştirme)\n"
      ],
      "metadata": {
        "colab": {
          "base_uri": "https://localhost:8080/"
        },
        "id": "N9_cp6tzHS4y",
        "outputId": "2d3f4e4f-7638-41f7-a3fc-daae0b5236c8"
      },
      "execution_count": null,
      "outputs": [
        {
          "output_type": "stream",
          "name": "stdout",
          "text": [
            "Dikey birleştirme:\n",
            " [[1 2]\n",
            " [3 4]\n",
            " [5 6]\n",
            " [7 8]]\n"
          ]
        }
      ]
    },
    {
      "cell_type": "markdown",
      "source": [
        "11.SORU"
      ],
      "metadata": {
        "id": "Rhr6BpHWHtMa"
      }
    },
    {
      "cell_type": "code",
      "source": [
        "# 1'den 12'ye kadar olan dizi (1 dahil, 13 hariç)\n",
        "arr = np.arange(1, 13)\n",
        "\n",
        "# 3 eşit parçaya böl\n",
        "bölme = np.split(arr, 3)\n",
        "\n",
        "print(\"3 eşit parçaya bölünmüş dizi:\",bölme)\n"
      ],
      "metadata": {
        "colab": {
          "base_uri": "https://localhost:8080/"
        },
        "id": "kyQCOwfuHuOq",
        "outputId": "ca17b797-0cce-4d3c-df70-508d9bb8cd36"
      },
      "execution_count": null,
      "outputs": [
        {
          "output_type": "stream",
          "name": "stdout",
          "text": [
            "3 eşit parçaya bölünmüş dizi: [array([1, 2, 3, 4]), array([5, 6, 7, 8]), array([ 9, 10, 11, 12])]\n"
          ]
        }
      ]
    },
    {
      "cell_type": "markdown",
      "source": [
        "12.SORU"
      ],
      "metadata": {
        "id": "aIkYaF-CIQvB"
      }
    },
    {
      "cell_type": "code",
      "source": [
        "arr = np.array([10, 15, 20, 25, 30])\n",
        "# 25 in indeks değerini buldurur\n",
        "bulma = np.where(arr == 25)\n",
        "print(\"Aranan elemanın indeks numarası:\",bulma)"
      ],
      "metadata": {
        "colab": {
          "base_uri": "https://localhost:8080/"
        },
        "id": "l3w5PEGhIR0d",
        "outputId": "2ba72cb3-8a61-49e2-902b-7e64052ec1e8"
      },
      "execution_count": null,
      "outputs": [
        {
          "output_type": "stream",
          "name": "stdout",
          "text": [
            "Aranan elemanın indeks numarası: (array([3]),)\n"
          ]
        }
      ]
    },
    {
      "cell_type": "markdown",
      "source": [
        "13.SORU"
      ],
      "metadata": {
        "id": "mUOj86nDIhaj"
      }
    },
    {
      "cell_type": "code",
      "source": [
        "arr = np.array([42, 17, 8, 99, 23])\n",
        "# Sayıları küçükten büyüğe sıralar\n",
        "sıralı_dizi = np.sort(arr)\n",
        "print(\"Sıralı dizi:\", sıralı_dizi)"
      ],
      "metadata": {
        "colab": {
          "base_uri": "https://localhost:8080/"
        },
        "id": "EV-o_29AIihj",
        "outputId": "ed50fbcc-2050-47a1-ec04-7fee0ca8bc6e"
      },
      "execution_count": null,
      "outputs": [
        {
          "output_type": "stream",
          "name": "stdout",
          "text": [
            "Sıralı dizi: [ 8 17 23 42 99]\n"
          ]
        }
      ]
    },
    {
      "cell_type": "markdown",
      "source": [
        "14.SORU"
      ],
      "metadata": {
        "id": "Yiw_e1aVIp4F"
      }
    },
    {
      "cell_type": "code",
      "source": [
        "arr = np.array([1, 2, 3, 4, 5, 6])\n",
        "# çift sayıları bulur\n",
        "cift_sayılar = arr[arr % 2 == 0]\n",
        "print(\"Çift sayılar:\", cift_sayılar)"
      ],
      "metadata": {
        "colab": {
          "base_uri": "https://localhost:8080/"
        },
        "id": "uIVKTb1hIq7P",
        "outputId": "4bd518c8-c64e-4612-ab63-64de0fe878fc"
      },
      "execution_count": null,
      "outputs": [
        {
          "output_type": "stream",
          "name": "stdout",
          "text": [
            "Çift sayılar: [2 4 6]\n"
          ]
        }
      ]
    }
  ]
}